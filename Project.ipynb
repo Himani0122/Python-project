{
 "cells": [
  {
   "cell_type": "markdown",
   "id": "21b84ea9-a8e4-4d8d-bcd4-ef69500960e3",
   "metadata": {},
   "source": [
    "## Questions 1\r",
    "- \n",
    "Count the number of perfect square numbers in a given range, range is take as input from user\r\n"
   ]
  },
  {
   "cell_type": "code",
   "execution_count": 35,
   "id": "45de10e3-aa48-46fe-a145-8d50cf4dc838",
   "metadata": {},
   "outputs": [
    {
     "name": "stdin",
     "output_type": "stream",
     "text": [
      "Enter the start range:  10\n",
      "Enter the end range:  100\n"
     ]
    },
    {
     "name": "stdout",
     "output_type": "stream",
     "text": [
      "7\n"
     ]
    }
   ],
   "source": [
    "import math\n",
    "a = int(input(\"Enter the start range: \"))\n",
    "b = int(input(\"Enter the end range: \"))\n",
    "c = list(range(a,b+1))\n",
    "d = 0\n",
    "for i in c:\n",
    "    if int(math.sqrt(i)) **2 == i:\n",
    "        d+=1\n",
    "print(d)"
   ]
  },
  {
   "cell_type": "markdown",
   "id": "df8e985b-1f52-4ff7-aa67-adacad9d6d85",
   "metadata": {},
   "source": [
    "Question 2: Write a python program to generate the following pattern\n",
    "    *\n",
    "    * *\n",
    "    * * *\n",
    "    * * * *\n",
    "    * * * * *\n",
    "    * * * *\n",
    "    * * *\n",
    "    * *\n",
    "    *\n"
   ]
  },
  {
   "cell_type": "code",
   "execution_count": 37,
   "id": "34e8c0f9-d916-450a-a354-852550a04e33",
   "metadata": {},
   "outputs": [
    {
     "name": "stdout",
     "output_type": "stream",
     "text": [
      "* \n",
      "* * \n",
      "* * * \n",
      "* * * * \n",
      "* * * * * \n",
      "* * * * \n",
      "* * * \n",
      "* * \n",
      "* \n"
     ]
    }
   ],
   "source": [
    "rows = 5\n",
    "\n",
    "for i in range(1, rows + 1):\n",
    "    print(\"* \" * i)\n",
    "\n",
    "for i in range(rows - 1, 0, -1):\n",
    "    print(\"* \" * i)\n"
   ]
  },
  {
   "cell_type": "markdown",
   "id": "5bf3ac50-c160-401c-8dd3-44b823131371",
   "metadata": {},
   "source": [
    "Question 3\n",
    "Take a number as input from user and display whether it is prime or not"
   ]
  },
  {
   "cell_type": "code",
   "execution_count": 40,
   "id": "ebd17ae0-e871-46a9-b7b2-1199ca36d105",
   "metadata": {},
   "outputs": [
    {
     "name": "stdin",
     "output_type": "stream",
     "text": [
      "Enter a number:  25\n"
     ]
    },
    {
     "name": "stdout",
     "output_type": "stream",
     "text": [
      "25 is not a prime number\n"
     ]
    }
   ],
   "source": [
    "number = int(input(\"Enter a number: \"))\n",
    "\n",
    "if number > 1:\n",
    "    for i in range(2, int(number ** 0.5) + 1):\n",
    "        if (number % i) == 0:\n",
    "            print(number, \"is not a prime number\")\n",
    "            break\n",
    "    else:\n",
    "        print(number, \"is a prime number\")\n",
    "else:\n",
    "    print(number, \"is not a prime number\")\n"
   ]
  },
  {
   "cell_type": "code",
   "execution_count": null,
   "id": "04207f6d-d8d7-469b-95c6-468d0c906e4d",
   "metadata": {},
   "outputs": [],
   "source": []
  }
 ],
 "metadata": {
  "kernelspec": {
   "display_name": "Python 3 (ipykernel)",
   "language": "python",
   "name": "python3"
  },
  "language_info": {
   "codemirror_mode": {
    "name": "ipython",
    "version": 3
   },
   "file_extension": ".py",
   "mimetype": "text/x-python",
   "name": "python",
   "nbconvert_exporter": "python",
   "pygments_lexer": "ipython3",
   "version": "3.11.7"
  }
 },
 "nbformat": 4,
 "nbformat_minor": 5
}
