{
 "cells": [
  {
   "cell_type": "markdown",
   "id": "91506a49-25d6-4f85-a1bc-2adadfe9f365",
   "metadata": {},
   "source": [
    "Problem Statement: \n",
    "➢ Computer would generate a random integer.\n",
    "➢ User can choose the upper bound\n",
    "➢ Then user would guess the number\n",
    "➢ If the guess is correct, it would display the message: “Congrats!!! You got it”\n",
    "➢ If the guess is incorrect, it would display whether the number guessed is above or \n",
    "below\n",
    "➢ Once, successfully guessed computer would display the no of trial required to guess \n",
    "it correctly"
   ]
  },
  {
   "cell_type": "code",
   "execution_count": null,
   "id": "b566a61a-c90e-43b5-96a4-ea4a60f55972",
   "metadata": {},
   "outputs": [],
   "source": [
    "import random\n",
    "\n",
    "\n",
    "a = int(input(\"Enter the upper bound: \"))\n",
    "b = random.randint(1, a)\n",
    "trials = 0\n",
    "\n",
    "while True:\n",
    "    trials += 1\n",
    "    guess = int(input(\"Guess the number: \"))\n",
    "    if guess == b:\n",
    "        print(\"Congrats!!! You got it\")\n",
    "        break\n",
    "    elif guess < b:\n",
    "        print(\"The number guessed is below the actual number.\")\n",
    "    else:\n",
    "        print(\"The number guessed is above the actual number.\")\n",
    "print(\"You guessed the number in\", trials, \"trials.\")\n"
   ]
  }
 ],
 "metadata": {
  "kernelspec": {
   "display_name": "Python 3 (ipykernel)",
   "language": "python",
   "name": "python3"
  },
  "language_info": {
   "codemirror_mode": {
    "name": "ipython",
    "version": 3
   },
   "file_extension": ".py",
   "mimetype": "text/x-python",
   "name": "python",
   "nbconvert_exporter": "python",
   "pygments_lexer": "ipython3",
   "version": "3.11.7"
  }
 },
 "nbformat": 4,
 "nbformat_minor": 5
}
